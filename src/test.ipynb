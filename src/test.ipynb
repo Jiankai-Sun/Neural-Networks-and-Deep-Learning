{
 "cells": [
  {
   "cell_type": "code",
   "execution_count": 1,
   "metadata": {},
   "outputs": [
    {
     "name": "stdout",
     "output_type": "stream",
     "text": [
      "Epoch 0: 9100 / 10000\n",
      "Epoch 1: 9224 / 10000\n",
      "Epoch 2: 9296 / 10000\n",
      "Epoch 3: 9324 / 10000\n",
      "Epoch 4: 9401 / 10000\n",
      "Epoch 5: 9432 / 10000\n",
      "Epoch 6: 9429 / 10000\n",
      "Epoch 7: 9444 / 10000\n",
      "Epoch 8: 9463 / 10000\n",
      "Epoch 9: 9498 / 10000\n",
      "Epoch 10: 9512 / 10000\n",
      "Epoch 11: 9467 / 10000\n",
      "Epoch 12: 9522 / 10000\n",
      "Epoch 13: 9483 / 10000\n",
      "Epoch 14: 9501 / 10000\n",
      "Epoch 15: 9507 / 10000\n",
      "Epoch 16: 9505 / 10000\n",
      "Epoch 17: 9461 / 10000\n",
      "Epoch 18: 9491 / 10000\n",
      "Epoch 19: 9494 / 10000\n",
      "Epoch 20: 9492 / 10000\n",
      "Epoch 21: 9511 / 10000\n",
      "Epoch 22: 9508 / 10000\n",
      "Epoch 23: 9500 / 10000\n",
      "Epoch 24: 9493 / 10000\n",
      "Epoch 25: 9504 / 10000\n",
      "Epoch 26: 9511 / 10000\n",
      "Epoch 27: 9512 / 10000\n",
      "Epoch 28: 9494 / 10000\n",
      "Epoch 29: 9502 / 10000\n"
     ]
    }
   ],
   "source": [
    "import mnist_loader\n",
    "import network\n",
    "\n",
    "training_data, validation_data, test_data = mnist_loader.load_data_wrapper()\n",
    "net = network.Network([784, 30, 10])\n",
    "net.SGD(training_data, 30, 10, 3.0, test_data=test_data)\n"
   ]
  },
  {
   "cell_type": "code",
   "execution_count": 9,
   "metadata": {},
   "outputs": [
    {
     "name": "stdout",
     "output_type": "stream",
     "text": [
      "Epoch 0: 4765 / 10000\n",
      "Epoch 1: 6680 / 10000\n",
      "Epoch 2: 7559 / 10000\n",
      "Epoch 3: 7611 / 10000\n",
      "Epoch 4: 7682 / 10000\n",
      "Epoch 5: 7691 / 10000\n",
      "Epoch 6: 7702 / 10000\n",
      "Epoch 7: 7741 / 10000\n",
      "Epoch 8: 7773 / 10000\n",
      "Epoch 9: 7776 / 10000\n",
      "Epoch 10: 7785 / 10000\n",
      "Epoch 11: 7771 / 10000\n",
      "Epoch 12: 7792 / 10000\n",
      "Epoch 13: 7798 / 10000\n",
      "Epoch 14: 7808 / 10000\n",
      "Epoch 15: 7820 / 10000\n",
      "Epoch 16: 8672 / 10000\n",
      "Epoch 17: 8726 / 10000\n",
      "Epoch 18: 8717 / 10000\n",
      "Epoch 19: 8725 / 10000\n",
      "Epoch 20: 8721 / 10000\n",
      "Epoch 21: 8739 / 10000\n",
      "Epoch 22: 8754 / 10000\n",
      "Epoch 23: 8744 / 10000\n",
      "Epoch 24: 8995 / 10000\n",
      "Epoch 25: 9640 / 10000\n",
      "Epoch 26: 9631 / 10000\n",
      "Epoch 27: 9623 / 10000\n",
      "Epoch 28: 9658 / 10000\n",
      "Epoch 29: 9620 / 10000\n"
     ]
    }
   ],
   "source": [
    "import mnist_loader\n",
    "import network\n",
    "\n",
    "training_data, validation_data, test_data = mnist_loader.load_data_wrapper()\n",
    "net = network.Network([784, 100, 10])\n",
    "net.SGD(training_data, 30, 10, 3.0, test_data=test_data)"
   ]
  },
  {
   "cell_type": "code",
   "execution_count": 10,
   "metadata": {},
   "outputs": [
    {
     "name": "stdout",
     "output_type": "stream",
     "text": [
      "Epoch 0: 883 / 10000\n",
      "Epoch 1: 911 / 10000\n",
      "Epoch 2: 839 / 10000\n",
      "Epoch 3: 880 / 10000\n",
      "Epoch 4: 914 / 10000\n",
      "Epoch 5: 947 / 10000\n",
      "Epoch 6: 973 / 10000\n",
      "Epoch 7: 1019 / 10000\n",
      "Epoch 8: 1058 / 10000\n",
      "Epoch 9: 1081 / 10000\n",
      "Epoch 10: 1115 / 10000\n",
      "Epoch 11: 1135 / 10000\n",
      "Epoch 12: 1165 / 10000\n",
      "Epoch 13: 1193 / 10000\n",
      "Epoch 14: 1216 / 10000\n",
      "Epoch 15: 1235 / 10000\n",
      "Epoch 16: 1260 / 10000\n",
      "Epoch 17: 1284 / 10000\n",
      "Epoch 18: 1304 / 10000\n",
      "Epoch 19: 1324 / 10000\n",
      "Epoch 20: 1337 / 10000\n",
      "Epoch 21: 1359 / 10000\n",
      "Epoch 22: 1377 / 10000\n",
      "Epoch 23: 1399 / 10000\n",
      "Epoch 24: 1421 / 10000\n",
      "Epoch 25: 1442 / 10000\n",
      "Epoch 26: 1459 / 10000\n",
      "Epoch 27: 1471 / 10000\n",
      "Epoch 28: 1504 / 10000\n",
      "Epoch 29: 1525 / 10000\n"
     ]
    }
   ],
   "source": [
    "import mnist_loader\n",
    "import network\n",
    "\n",
    "training_data, validation_data, test_data = mnist_loader.load_data_wrapper()\n",
    "net = network.Network([784, 100, 10])\n",
    "net.SGD(training_data, 30, 10, 0.001, test_data=test_data)"
   ]
  },
  {
   "cell_type": "code",
   "execution_count": 11,
   "metadata": {},
   "outputs": [
    {
     "name": "stdout",
     "output_type": "stream",
     "text": [
      "Epoch 0: 1689 / 10000\n",
      "Epoch 1: 1690 / 10000\n",
      "Epoch 2: 1690 / 10000\n",
      "Epoch 3: 1690 / 10000\n",
      "Epoch 4: 1690 / 10000\n",
      "Epoch 5: 1690 / 10000\n",
      "Epoch 6: 1690 / 10000\n",
      "Epoch 7: 1690 / 10000\n",
      "Epoch 8: 1690 / 10000\n",
      "Epoch 9: 1690 / 10000\n",
      "Epoch 10: 1690 / 10000\n",
      "Epoch 11: 1690 / 10000\n",
      "Epoch 12: 1690 / 10000\n",
      "Epoch 13: 1690 / 10000\n",
      "Epoch 14: 1690 / 10000\n",
      "Epoch 15: 1690 / 10000\n",
      "Epoch 16: 1690 / 10000\n",
      "Epoch 17: 1690 / 10000\n",
      "Epoch 18: 1690 / 10000\n",
      "Epoch 19: 1690 / 10000\n",
      "Epoch 20: 1690 / 10000\n",
      "Epoch 21: 1690 / 10000\n",
      "Epoch 22: 1690 / 10000\n",
      "Epoch 23: 1690 / 10000\n",
      "Epoch 24: 1690 / 10000\n",
      "Epoch 25: 1690 / 10000\n",
      "Epoch 26: 1690 / 10000\n",
      "Epoch 27: 1690 / 10000\n",
      "Epoch 28: 1690 / 10000\n",
      "Epoch 29: 1690 / 10000\n"
     ]
    }
   ],
   "source": [
    "import mnist_loader\n",
    "import network\n",
    "\n",
    "training_data, validation_data, test_data = mnist_loader.load_data_wrapper()\n",
    "net = network.Network([784, 30, 10])\n",
    "net.SGD(training_data, 30, 10, 100.0, test_data=test_data)"
   ]
  },
  {
   "cell_type": "code",
   "execution_count": null,
   "metadata": {
    "collapsed": true
   },
   "outputs": [],
   "source": []
  }
 ],
 "metadata": {
  "kernelspec": {
   "display_name": "Python 3",
   "language": "python",
   "name": "python3"
  },
  "language_info": {
   "codemirror_mode": {
    "name": "ipython",
    "version": 3
   },
   "file_extension": ".py",
   "mimetype": "text/x-python",
   "name": "python",
   "nbconvert_exporter": "python",
   "pygments_lexer": "ipython3",
   "version": "3.6.1"
  }
 },
 "nbformat": 4,
 "nbformat_minor": 2
}
