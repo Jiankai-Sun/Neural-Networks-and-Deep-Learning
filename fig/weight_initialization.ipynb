{
 "cells": [
  {
   "cell_type": "code",
   "execution_count": 1,
   "metadata": {},
   "outputs": [
    {
     "ename": "TypeError",
     "evalue": "main() missing 3 required positional arguments: 'filename', 'n', and 'eta'",
     "output_type": "error",
     "traceback": [
      "\u001b[1;31m---------------------------------------------------------------------------\u001b[0m",
      "\u001b[1;31mTypeError\u001b[0m                                 Traceback (most recent call last)",
      "\u001b[1;32m<ipython-input-1-50b335c43d5e>\u001b[0m in \u001b[0;36m<module>\u001b[1;34m()\u001b[0m\n\u001b[0;32m     74\u001b[0m \u001b[1;33m\u001b[0m\u001b[0m\n\u001b[0;32m     75\u001b[0m \u001b[1;32mif\u001b[0m \u001b[0m__name__\u001b[0m \u001b[1;33m==\u001b[0m \u001b[1;34m\"__main__\"\u001b[0m\u001b[1;33m:\u001b[0m\u001b[1;33m\u001b[0m\u001b[0m\n\u001b[1;32m---> 76\u001b[1;33m     \u001b[0mmain\u001b[0m\u001b[1;33m(\u001b[0m\u001b[1;33m)\u001b[0m\u001b[1;33m\u001b[0m\u001b[0m\n\u001b[0m",
      "\u001b[1;31mTypeError\u001b[0m: main() missing 3 required positional arguments: 'filename', 'n', and 'eta'"
     ]
    }
   ],
   "source": [
    "\"\"\"weight_initialization\n",
    "~~~~~~~~~~~~~~~~~~~~~~~~\n",
    "This program shows how weight initialization affects training.  In\n",
    "particular, we'll plot out how the classification accuracies improve\n",
    "using either large starting weights, whose standard deviation is 1, or\n",
    "the default starting weights, whose standard deviation is 1 over the\n",
    "square root of the number of input neurons.\n",
    "\"\"\"\n",
    "\n",
    "# Standard library\n",
    "import json\n",
    "import random\n",
    "import sys\n",
    "\n",
    "# My library\n",
    "sys.path.append('../src/')\n",
    "import mnist_loader\n",
    "import network2\n",
    "\n",
    "# Third-party libraries\n",
    "import matplotlib.pyplot as plt\n",
    "import numpy as np\n",
    "\n",
    "def main(filename, n, eta):\n",
    "    run_network(filename,n,eta)\n",
    "    make_plot(filename)\n",
    "\n",
    "def run_network(filename, n, eta):\n",
    "    \"\"\"Train the network using both the default and the large starting\n",
    "    weights.  Store the results in the file with name \"filename\",\n",
    "    where they can later be used by \"make_plots\".\n",
    "    \"\"\"\n",
    "    # Make results more easily reproducible\n",
    "    random.seed(12345678)\n",
    "    np.random.seed(12345678)\n",
    "    training_data, validation_data, test_data = mnist_loader.load_data_wrapper()\n",
    "    net = network2.Network([784,n,10], cost=network2.CrossEntropyCost)\n",
    "    print(\"Train the network using the default starting weights.\")\n",
    "    default_vc, default_va, default_tc, default_ta = net.SGD(training_data, 30, 10, eta, lmbda=5.0,\n",
    "                                                             evaluation_data=validation_data, monitor_evaluation_accuracy=True)\n",
    "    print(\"Train the network using the large starting weights.\")\n",
    "    net.large_weight_initializer()\n",
    "    large_vc, large_va, large_tc, large_ta = net.SGD(training_data, 30, 10, eta, lmbda=5.0, evaluation_data=validation_data, monitor_evaluation_accuracy=True)\n",
    "    f = open(filename, \"w\")\n",
    "    json.dump({\"default_weight_initialization\":[default_vc,default_va,default_tc,default_ta],\n",
    "               \"large_weight_initialization\":[large_vc,large_va,large_tc,large_ta]},f)\n",
    "    f.close()\n",
    "\n",
    "def make_plot(filename):\n",
    "    \"\"\"\n",
    "    Load the results from the file \"filename\", and generate the\n",
    "    corresponding plot.\n",
    "    \"\"\"\n",
    "    f = open(filename,\"r\")\n",
    "    result = json.load(f)\n",
    "    f.close()\n",
    "    default_vc,default_va,default_tc,default_ta=results[\"default_weight_initialization\"]\n",
    "    large_vc, large_va,large_tc,large_ta = results[\"large_weight_initialization\"]\n",
    "    # Convert raw classification numbers to percentages, for plotting\n",
    "    default_va = [x/100.0 for x in default_va]\n",
    "    large_va = [x/100.0 for x in large_va]\n",
    "    fig = plt.figure()\n",
    "    ax = fig.add_subplot(111)\n",
    "    ax.plot(np.arange(0,30,1),large_va, color = '#2A6EA6',\n",
    "            label = \"Old approach to weight initialization\")\n",
    "    ax.plot(np.arange(0,30,1),default_va,color='#FFA933',\n",
    "            label = \"New approach to weight initialization\")\n",
    "    ax.set_xlim([0,30])\n",
    "    ax.set_xlabel('Epoch')\n",
    "    ax.set_ylim([85,100])\n",
    "    ax.set_title('classification accuracy')\n",
    "    plt.legend(loc = 'lower right')\n",
    "    plt.show()\n",
    "\n",
    "if __name__ == \"__main__\":\n",
    "    main()\n"
   ]
  },
  {
   "cell_type": "code",
   "execution_count": null,
   "metadata": {
    "collapsed": true
   },
   "outputs": [],
   "source": []
  }
 ],
 "metadata": {
  "kernelspec": {
   "display_name": "Python 3",
   "language": "python",
   "name": "python3"
  }
 },
 "nbformat": 4,
 "nbformat_minor": 2
}
